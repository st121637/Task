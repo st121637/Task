{
 "cells": [
  {
   "cell_type": "markdown",
   "metadata": {
    "pycharm": {
     "name": "#%% md\n"
    }
   },
   "source": [
    "# Задание 2.\n",
    "\n",
    "**NB. Все упражнения ниже нужно делать без использования циклов Python в явном (`while`, `for`) и неявном виде (list comprehension, `map`, `reduce` и пр)**\n",
    "\n",
    "Задания по манипуляциям с массивами чаще всего решаются в одно/два выражения. "
   ]
  },
  {
   "cell_type": "code",
   "execution_count": 1,
   "metadata": {
    "pycharm": {
     "name": "#%%\n"
    }
   },
   "outputs": [
    {
     "data": {
      "text/plain": [
       "array([[67,  3, 68, ..., 71, 19, 34],\n",
       "       [30, 96, 20, ...,  4, 96, 28],\n",
       "       [14, 81, 38, ..., 82, 44, 85],\n",
       "       ...,\n",
       "       [87, 15, 20, ..., 85, 42, 73],\n",
       "       [55, 21, 20, ..., 67, 40, 13],\n",
       "       [ 5, 14, 74, ..., 51, 97, 42]])"
      ]
     },
     "execution_count": 1,
     "metadata": {},
     "output_type": "execute_result"
    }
   ],
   "source": [
    "%matplotlib inline\n",
    "\n",
    "import numpy as np\n",
    "import matplotlib.pyplot as plt\n",
    "import seaborn as sns\n",
    "sns.set_theme()\n",
    "\n",
    "A = np.random.randint(0, 100, size=(200, 50))\n",
    "A"
   ]
  },
  {
   "cell_type": "markdown",
   "metadata": {
    "pycharm": {
     "name": "#%% md\n"
    }
   },
   "source": [
    "# Задание 2.1 (2 балла)\n",
    "\n",
    "Сгенерируйте новый массив, в котором столбцы массива `A` переставлены в случайном порядке"
   ]
  },
  {
   "cell_type": "code",
   "execution_count": 10,
   "metadata": {
    "pycharm": {
     "name": "#%%\n"
    }
   },
   "outputs": [
    {
     "name": "stdout",
     "output_type": "stream",
     "text": [
      "A = [[ 7 47 31 ... 59 83 29]\n",
      " [72 23  5 ... 17 93  7]\n",
      " [18 81 40 ... 78 97  1]\n",
      " ...\n",
      " [92 35 42 ... 62  3 44]\n",
      " [80 51 75 ... 92 19 70]\n",
      " [24 47 31 ... 57 92  9]]\n",
      "A_permuted = [[68 56 31 ... 52 93 98]\n",
      " [ 1 36  5 ... 86  1 21]\n",
      " [93 11 40 ... 14 81 77]\n",
      " ...\n",
      " [32  2 42 ... 36  9 12]\n",
      " [25 48 75 ... 52 71 71]\n",
      " [ 0 45 31 ... 20  1 50]]\n"
     ]
    }
   ],
   "source": [
    "import numpy as np\n",
    "# Создаем массив A\n",
    "A = np.random.randint(0, 100, size=(200, 50))\n",
    "print('A =', A)\n",
    "# Генерируем случайную перестановку столбцов\n",
    "permutation = np.random.permutation(A.shape[1])\n",
    "# Применяем перестановку к столбцам массива A\n",
    "A_permuted = A[:, permutation]\n",
    "# A_permuted содержит столбцы A в случайном порядке\n",
    "print('A_permuted =', A_permuted)\n"
   ]
  },
  {
   "cell_type": "markdown",
   "metadata": {
    "pycharm": {
     "name": "#%% md\n"
    }
   },
   "source": [
    "# Задание 2.2 (5 баллов)\n",
    "\n",
    "Сгенерируйте новый массив, который содержит только те строки массива `A`, в которых: \n",
    "- сумма элементов по четным столбцам (индексы $0, 2, \\ldots$) больше среднего значения (по всему массиву) суммы элементов по нечетным столбцам (индексы $1, 3, \\ldots$) "
   ]
  },
  {
   "cell_type": "code",
   "execution_count": 12,
   "metadata": {
    "pycharm": {
     "name": "#%%\n"
    }
   },
   "outputs": [
    {
     "name": "stdout",
     "output_type": "stream",
     "text": [
      "Массив A:\n",
      "[[80 61 55 ... 85 74 51]\n",
      " [35 30 38 ... 58 56 17]\n",
      " [ 2 45 25 ...  1 19  4]\n",
      " ...\n",
      " [39 11 57 ... 59 42 55]\n",
      " [81 85 84 ... 14  2 91]\n",
      " [22 63 83 ... 64 96 43]]\n",
      "\n",
      "Выбранные строки:\n",
      "[[35 30 38 ... 58 56 17]\n",
      " [78 37 65 ... 67 24 90]\n",
      " [63 65 83 ... 43 83 79]\n",
      " ...\n",
      " [42 98 28 ... 22 62 25]\n",
      " [ 3 35 47 ... 75 77 26]\n",
      " [22 63 83 ... 64 96 43]]\n"
     ]
    }
   ],
   "source": [
    "import numpy as np\n",
    "\n",
    "# Создаем массив A\n",
    "A = np.random.randint(0, 100, size=(200, 50))\n",
    "\n",
    "# Вычисляем суммы по четным и нечетным столбцам\n",
    "even_column_sum = np.sum(A[:, ::2], axis=1)\n",
    "odd_column_sum = np.sum(A[:, 1::2], axis=1)\n",
    "\n",
    "# Вычисляем среднее значение суммы по нечетным столбцам\n",
    "mean_odd_column_sum = np.mean(odd_column_sum)\n",
    "\n",
    "# Выбираем строки, удовлетворяющие условию\n",
    "selected_rows = A[even_column_sum > mean_odd_column_sum]\n",
    "\n",
    "# Выводим результат\n",
    "print(\"Массив A:\")\n",
    "print(A)\n",
    "print(\"\\nВыбранные строки:\")\n",
    "print(selected_rows)\n"
   ]
  },
  {
   "cell_type": "markdown",
   "metadata": {
    "pycharm": {
     "name": "#%% md\n"
    }
   },
   "source": [
    "# Задача 2.3 (3 балла)\n",
    "\n",
    "Найдите индекс строки массива `A`, в которой разница между максимальным и минимальным элементом максимальна"
   ]
  },
  {
   "cell_type": "code",
   "execution_count": 14,
   "metadata": {
    "pycharm": {
     "name": "#%%\n"
    }
   },
   "outputs": [
    {
     "name": "stdout",
     "output_type": "stream",
     "text": [
      "[[35 55 98 ...  0 92  3]\n",
      " [66 90 71 ... 45 30 45]\n",
      " [98 40 56 ... 45 34 99]\n",
      " ...\n",
      " [70 87 87 ... 58  2 75]\n",
      " [68 58 94 ... 69 26 58]\n",
      " [42 68 76 ... 78 46 96]]\n",
      "Индекс строки с максимальной разницей между максимальным и минимальным элементами: 3\n"
     ]
    }
   ],
   "source": [
    "import numpy as np\n",
    "\n",
    "# Создаем массив A\n",
    "A = np.random.randint(0, 100, size=(200, 50))\n",
    "\n",
    "# Находим разницу между максимальным и минимальным элементом в каждой строке\n",
    "row_max = np.max(A, axis=1)\n",
    "row_min = np.min(A, axis=1)\n",
    "row_diff = row_max - row_min\n",
    "\n",
    "# Находим индекс строки с максимальной разницей\n",
    "index_of_max_difference = np.argmax(row_diff)\n",
    "\n",
    "# Выводим индекс строки\n",
    "print(A)\n",
    "print(\"Индекс строки с максимальной разницей между максимальным и минимальным элементами:\", index_of_max_difference)\n"
   ]
  },
  {
   "cell_type": "markdown",
   "metadata": {
    "pycharm": {
     "name": "#%% md\n"
    }
   },
   "source": [
    "# Задание 2.4 (7 баллов)\n",
    "\n",
    "Сгенерируйте массив той же размерности, что и `A`, но в котором каждый элемент заменен на его порядковый номер (начиная с 1) в отсортированном по возрастанию массиве из элементов `A`\n",
    "\n",
    "Если `A` выглядит так:\n",
    "$$\n",
    "\\begin{pmatrix}\n",
    "12 & 14\\\\\n",
    "1 & 2\n",
    "\\end{pmatrix}\n",
    "$$\n",
    "то результат должен быть\n",
    "$$\n",
    "\\begin{pmatrix}\n",
    "3 & 4\\\\\n",
    "1 & 2\n",
    "\\end{pmatrix}\n",
    "$$\n",
    "\n",
    "*Tip: рассмотрите возможность неоднократного применения [argsort()](https://numpy.org/doc/stable/reference/generated/numpy.ndarray.argsort.html)*"
   ]
  },
  {
   "cell_type": "code",
   "execution_count": 15,
   "metadata": {
    "pycharm": {
     "name": "#%%\n"
    }
   },
   "outputs": [
    {
     "name": "stdout",
     "output_type": "stream",
     "text": [
      "Массив A:\n",
      "[[ 9 19 66 ... 99 58 85]\n",
      " [59 29 43 ... 13  1  6]\n",
      " [61 72 35 ... 67 15 23]\n",
      " ...\n",
      " [60 87 72 ... 49 49 30]\n",
      " [93 83  8 ... 31 84 76]\n",
      " [11 62 11 ... 27 73 63]]\n",
      "\n",
      "Массив с порядковыми номерами:\n",
      "[[ 4 14 35 ... 50 32 46]\n",
      " [30 18 26 ...  8  1  3]\n",
      " [33 39 16 ... 35  8 10]\n",
      " ...\n",
      " [30 44 38 ... 22 23 13]\n",
      " [46 40  4 ... 21 41 37]\n",
      " [ 7 28  8 ... 13 36 30]]\n"
     ]
    }
   ],
   "source": [
    "import numpy as np\n",
    "\n",
    "# Создаем массив A\n",
    "A = np.random.randint(0, 100, size=(200, 50))\n",
    "\n",
    "# Получаем индексы отсортированных элементов для каждой строки\n",
    "sorted_indices = np.argsort(A, axis=1)\n",
    "\n",
    "# Создаем массив с порядковыми номерами элементов\n",
    "sorted_ranked_array = np.empty_like(A)\n",
    "for i in range(A.shape[0]):\n",
    "    sorted_ranked_array[i] = sorted_indices[i].argsort() + 1\n",
    "\n",
    "# Выводим полученный массив\n",
    "print(\"Массив A:\")\n",
    "print(A)\n",
    "print(\"\\nМассив с порядковыми номерами:\")\n",
    "print(sorted_ranked_array)\n"
   ]
  },
  {
   "cell_type": "markdown",
   "metadata": {
    "pycharm": {
     "name": "#%% md\n"
    }
   },
   "source": [
    "# Задание 2.5 (2 балла)\n",
    "\n",
    "Примените $\\min-\\max$ - нормализацию к строкам массива `A`. То есть нужно получить новый массивы, в каждой строке которого максимальный элементы равен $1$, минимальный - $0$. "
   ]
  },
  {
   "cell_type": "code",
   "execution_count": 16,
   "metadata": {
    "pycharm": {
     "name": "#%%\n"
    }
   },
   "outputs": [
    {
     "name": "stdout",
     "output_type": "stream",
     "text": [
      "Массив A:\n",
      "[[49 50 20 ...  7 93 49]\n",
      " [41 75 63 ... 47 88 89]\n",
      " [86 63 92 ... 90 59 65]\n",
      " ...\n",
      " [97  6 36 ... 26  9  4]\n",
      " [66 92 94 ... 94 33  1]\n",
      " [16 83 67 ... 34  6 98]]\n",
      "\n",
      "Мин-макс нормализованный массив:\n",
      "[[0.5        0.51020408 0.20408163 ... 0.07142857 0.94897959 0.5       ]\n",
      " [0.41052632 0.76842105 0.64210526 ... 0.47368421 0.90526316 0.91578947]\n",
      " [0.88297872 0.63829787 0.94680851 ... 0.92553191 0.59574468 0.65957447]\n",
      " ...\n",
      " [0.98979592 0.06122449 0.36734694 ... 0.26530612 0.09183673 0.04081633]\n",
      " [0.69473684 0.96842105 0.98947368 ... 0.98947368 0.34736842 0.01052632]\n",
      " [0.10869565 0.83695652 0.66304348 ... 0.30434783 0.         1.        ]]\n"
     ]
    }
   ],
   "source": [
    "import numpy as np\n",
    "\n",
    "# Создаем массив A\n",
    "A = np.random.randint(0, 100, size=(200, 50))\n",
    "\n",
    "# Находим минимальное и максимальное значение в каждой строке\n",
    "min_values = np.min(A, axis=1, keepdims=True)\n",
    "max_values = np.max(A, axis=1, keepdims=True)\n",
    "\n",
    "# Применяем мин-макс нормализацию\n",
    "normalized_A = (A - min_values) / (max_values - min_values)\n",
    "\n",
    "# Выводим полученный массив\n",
    "print(\"Массив A:\")\n",
    "print(A)\n",
    "print(\"\\nМин-макс нормализованный массив:\")\n",
    "print(normalized_A)\n"
   ]
  },
  {
   "cell_type": "markdown",
   "metadata": {
    "pycharm": {
     "name": "#%% md\n"
    }
   },
   "source": [
    "# Задание 2.6 (2 балла)\n",
    "\n",
    "Сгенерируйте новый трехмерный массив, размерности $10 \\times 200 \\times 50$. Подмассивы по нулевой оси должны состоять из элементов `A`, умноженных на $1 - 10$ соответственно"
   ]
  },
  {
   "cell_type": "code",
   "execution_count": 17,
   "metadata": {
    "pycharm": {
     "name": "#%%\n"
    }
   },
   "outputs": [
    {
     "name": "stdout",
     "output_type": "stream",
     "text": [
      "Трехмерный массив:\n",
      "[[[ 13.  21.  16. ...  57.  14.  63.]\n",
      "  [ 51.   0.  42. ...  24.  45.  74.]\n",
      "  [ 86.   7.  15. ...  21.  29.  60.]\n",
      "  ...\n",
      "  [ 20.  67.  84. ...  81.  35.  47.]\n",
      "  [ 33.  92.  85. ...  92.  41.  71.]\n",
      "  [ 14.  25.  94. ...  71.  70.  71.]]\n",
      "\n",
      " [[ 26.  42.  32. ... 114.  28. 126.]\n",
      "  [102.   0.  84. ...  48.  90. 148.]\n",
      "  [172.  14.  30. ...  42.  58. 120.]\n",
      "  ...\n",
      "  [ 40. 134. 168. ... 162.  70.  94.]\n",
      "  [ 66. 184. 170. ... 184.  82. 142.]\n",
      "  [ 28.  50. 188. ... 142. 140. 142.]]\n",
      "\n",
      " [[ 39.  63.  48. ... 171.  42. 189.]\n",
      "  [153.   0. 126. ...  72. 135. 222.]\n",
      "  [258.  21.  45. ...  63.  87. 180.]\n",
      "  ...\n",
      "  [ 60. 201. 252. ... 243. 105. 141.]\n",
      "  [ 99. 276. 255. ... 276. 123. 213.]\n",
      "  [ 42.  75. 282. ... 213. 210. 213.]]\n",
      "\n",
      " ...\n",
      "\n",
      " [[104. 168. 128. ... 456. 112. 504.]\n",
      "  [408.   0. 336. ... 192. 360. 592.]\n",
      "  [688.  56. 120. ... 168. 232. 480.]\n",
      "  ...\n",
      "  [160. 536. 672. ... 648. 280. 376.]\n",
      "  [264. 736. 680. ... 736. 328. 568.]\n",
      "  [112. 200. 752. ... 568. 560. 568.]]\n",
      "\n",
      " [[117. 189. 144. ... 513. 126. 567.]\n",
      "  [459.   0. 378. ... 216. 405. 666.]\n",
      "  [774.  63. 135. ... 189. 261. 540.]\n",
      "  ...\n",
      "  [180. 603. 756. ... 729. 315. 423.]\n",
      "  [297. 828. 765. ... 828. 369. 639.]\n",
      "  [126. 225. 846. ... 639. 630. 639.]]\n",
      "\n",
      " [[130. 210. 160. ... 570. 140. 630.]\n",
      "  [510.   0. 420. ... 240. 450. 740.]\n",
      "  [860.  70. 150. ... 210. 290. 600.]\n",
      "  ...\n",
      "  [200. 670. 840. ... 810. 350. 470.]\n",
      "  [330. 920. 850. ... 920. 410. 710.]\n",
      "  [140. 250. 940. ... 710. 700. 710.]]]\n"
     ]
    }
   ],
   "source": [
    "import numpy as np\n",
    "\n",
    "# Создаем массив A\n",
    "A = np.random.randint(0, 100, size=(200, 50))\n",
    "\n",
    "# Создаем трехмерный массив размерности 10x200x50\n",
    "n = 10\n",
    "expanded_A = np.zeros((n, *A.shape))\n",
    "\n",
    "# Заполняем подмассивы умноженными значениями от 1 до 10\n",
    "for i in range(n):\n",
    "    expanded_A[i] = A * (i + 1)\n",
    "\n",
    "# Выводим полученный трехмерный массив\n",
    "print(\"Трехмерный массив:\")\n",
    "print(expanded_A)\n"
   ]
  },
  {
   "cell_type": "markdown",
   "metadata": {
    "pycharm": {
     "name": "#%% md\n"
    }
   },
   "source": [
    "# Задание 2.7 (2 балла)\n",
    "\n",
    "Создайте новый массив, такой же размерности, как и `A`, в котором сначала сгруппированы четные столбцы `A`, потом  нечетные. Используйте [np.concat()](https://numpy.org/doc/stable/reference/generated/numpy.concatenate.html) "
   ]
  },
  {
   "cell_type": "code",
   "execution_count": 18,
   "metadata": {
    "pycharm": {
     "name": "#%%\n"
    }
   },
   "outputs": [
    {
     "name": "stdout",
     "output_type": "stream",
     "text": [
      "Массив A:\n",
      "[[37 25 67 ... 64 85 53]\n",
      " [13 54 23 ... 91 60 91]\n",
      " [70 17 62 ... 78 66 44]\n",
      " ...\n",
      " [73 16 62 ... 16 95 29]\n",
      " [27 74 61 ... 33 30 36]\n",
      " [ 7 18 19 ...  1 83 57]]\n",
      "\n",
      "Новый массив с четными и нечетными столбцами:\n",
      "[[37 67 64 ...  4 64 53]\n",
      " [13 23 70 ... 45 91 91]\n",
      " [70 62 71 ...  0 78 44]\n",
      " ...\n",
      " [73 62 25 ... 74 16 29]\n",
      " [27 61 61 ... 57 33 36]\n",
      " [ 7 19 54 ... 77  1 57]]\n"
     ]
    }
   ],
   "source": [
    "import numpy as np\n",
    "\n",
    "# Создаем массив A\n",
    "A = np.random.randint(0, 100, size=(200, 50))\n",
    "\n",
    "# Разделяем четные и нечетные столбцы\n",
    "even_columns = A[:, ::2]\n",
    "odd_columns = A[:, 1::2]\n",
    "\n",
    "# Объединяем их в новом массиве\n",
    "result_array = np.concatenate((even_columns, odd_columns), axis=1)\n",
    "\n",
    "# Выводим полученный массив\n",
    "print(\"Массив A:\")\n",
    "print(A)\n",
    "print(\"\\nНовый массив с четными и нечетными столбцами:\")\n",
    "print(result_array)\n"
   ]
  },
  {
   "cell_type": "markdown",
   "metadata": {
    "pycharm": {
     "name": "#%% md\n"
    }
   },
   "source": [
    "# Задание 2.8 (2 балла)\n",
    "\n",
    "Посчитайте количество строк массива `A`, в который все элементы больше 5. Используйте [np.all()](https://numpy.org/doc/stable/reference/generated/numpy.all.html) "
   ]
  },
  {
   "cell_type": "code",
   "execution_count": 19,
   "metadata": {
    "pycharm": {
     "name": "#%%\n"
    }
   },
   "outputs": [
    {
     "name": "stdout",
     "output_type": "stream",
     "text": [
      "Количество строк, в которых все элементы больше 5: 0\n"
     ]
    }
   ],
   "source": [
    "import numpy as np\n",
    "\n",
    "# Создаем массив A\n",
    "A = np.random.randint(0, 10, size=(200, 50))\n",
    "\n",
    "# Подсчитываем количество строк, в которых все элементы больше 5\n",
    "count = np.sum(np.all(A > 5, axis=1))\n",
    "\n",
    "# Выводим количество подходящих строк\n",
    "print(\"Количество строк, в которых все элементы больше 5:\", count)\n"
   ]
  },
  {
   "cell_type": "markdown",
   "metadata": {
    "pycharm": {
     "name": "#%% md\n"
    }
   },
   "source": [
    "# Задание 2.9 (2 балла)\n",
    "\n",
    "Поделите массив `A` горизонтально на 10 частей и создайте новый массив размерности $20 \\times 50$, который является средним этих частей. Используйте [np.split()](https://numpy.org/doc/stable/reference/generated/numpy.split.html)"
   ]
  },
  {
   "cell_type": "code",
   "execution_count": 20,
   "metadata": {
    "pycharm": {
     "name": "#%%\n"
    }
   },
   "outputs": [
    {
     "name": "stdout",
     "output_type": "stream",
     "text": [
      "Массив A:\n",
      "[[58 40 50 ... 68 38  8]\n",
      " [ 1 47 74 ... 19 58 66]\n",
      " [35 62  3 ... 42 37 36]\n",
      " ...\n",
      " [69 66 61 ... 33 65 13]\n",
      " [12 38 81 ... 88 62 16]\n",
      " [37 61 48 ... 11 77 30]]\n",
      "\n",
      "Новый массив средних значений:\n",
      "[[52.   40.25 52.25 46.9  45.3  44.35 48.8  47.35 46.8  42.7  47.65 64.55\n",
      "  53.   51.95 56.15 61.4  57.45 47.85 41.9  44.2  57.55 59.1  43.   44.15\n",
      "  40.5  56.6  60.35 51.65 59.85 51.85 51.75 55.4  49.6  42.9  51.25 52.45\n",
      "  54.15 47.4  49.2  41.4  49.9  47.8  54.5  51.9  42.8  53.35 49.35 49.9\n",
      "  48.75 35.1 ]\n",
      " [43.45 56.65 48.6  54.75 47.55 57.5  46.7  46.7  60.4  51.45 43.1  38.25\n",
      "  51.2  55.3  57.2  49.95 61.65 45.5  47.5  39.85 54.1  49.2  41.   65.45\n",
      "  40.95 49.9  47.2  54.   37.4  59.6  36.75 59.25 50.65 53.05 42.75 58.1\n",
      "  56.4  47.75 52.   47.95 35.15 55.   57.95 64.4  59.8  51.55 55.4  54.2\n",
      "  51.5  55.9 ]\n",
      " [55.95 45.05 39.85 44.4  38.45 54.05 58.15 46.75 57.5  50.85 38.6  50.35\n",
      "  38.1  55.65 50.05 51.3  45.4  47.6  51.15 46.15 50.6  41.85 50.85 52.85\n",
      "  60.7  54.6  53.05 47.55 40.85 40.   58.8  54.7  44.   45.3  54.5  41.05\n",
      "  45.05 55.05 55.9  50.85 48.2  39.3  52.85 34.65 46.2  59.85 50.05 57.45\n",
      "  55.5  39.  ]\n",
      " [39.85 38.15 46.6  35.55 35.3  48.   41.6  42.2  45.8  55.6  57.9  48.75\n",
      "  53.35 57.   37.55 54.2  60.   50.6  48.55 46.35 57.8  48.15 47.35 45.25\n",
      "  46.75 44.3  38.35 48.6  50.15 56.95 52.7  52.45 38.4  36.45 55.6  50.35\n",
      "  54.1  51.95 48.25 57.15 44.45 43.4  45.65 49.2  51.85 50.15 53.65 43.25\n",
      "  43.65 48.55]\n",
      " [32.15 59.2  48.1  57.2  54.35 47.65 44.9  51.85 34.4  46.95 46.4  47.55\n",
      "  59.9  52.75 46.25 50.5  42.9  36.3  40.2  57.   47.   56.9  42.15 50.65\n",
      "  52.85 58.7  41.55 48.4  50.15 53.45 51.8  45.65 48.6  40.85 48.05 60.25\n",
      "  49.15 40.6  51.2  57.85 39.6  41.65 45.95 46.85 52.2  39.1  50.2  47.65\n",
      "  53.4  58.3 ]\n",
      " [44.35 55.5  54.4  60.5  47.65 50.5  54.95 45.   50.1  47.45 47.95 53.05\n",
      "  51.55 49.55 42.25 48.1  43.95 53.9  62.5  55.35 46.45 57.35 38.75 39.3\n",
      "  50.5  36.75 55.55 51.45 38.15 51.5  52.8  42.55 49.8  44.7  54.25 42.3\n",
      "  48.65 49.25 47.85 46.65 47.6  49.   42.3  56.6  51.85 63.6  44.55 43.4\n",
      "  47.85 49.65]\n",
      " [57.9  59.8  57.2  54.65 47.7  37.7  54.65 51.55 53.5  54.1  47.4  41.75\n",
      "  44.75 40.3  57.   48.8  53.75 37.05 51.65 50.8  55.35 47.8  54.45 57.75\n",
      "  49.25 49.7  59.   39.75 41.45 37.1  45.95 50.1  57.75 47.25 55.4  52.8\n",
      "  58.35 56.45 62.05 51.15 56.75 54.9  46.35 43.15 49.3  54.   48.95 54.95\n",
      "  47.9  45.9 ]\n",
      " [51.85 55.75 53.85 54.5  50.65 51.75 54.4  56.55 56.   59.75 53.7  50.7\n",
      "  47.6  45.8  53.9  54.2  45.65 42.35 52.8  63.85 56.9  38.05 54.1  50.85\n",
      "  46.65 39.2  47.8  56.5  48.7  44.45 51.8  42.65 44.35 51.25 44.9  42.35\n",
      "  51.35 56.65 41.05 50.95 41.15 42.9  57.55 57.6  48.25 49.4  55.45 45.05\n",
      "  44.8  56.05]\n",
      " [43.8  47.85 57.45 51.55 42.65 53.9  49.15 50.35 55.45 50.3  54.5  46.9\n",
      "  55.3  45.6  54.6  55.6  48.6  44.3  47.9  56.4  54.7  36.1  36.55 42.95\n",
      "  45.35 56.4  53.25 54.9  56.15 62.75 53.25 45.65 52.2  41.15 59.4  34.\n",
      "  40.7  46.4  52.35 50.5  46.3  41.15 40.3  49.05 53.75 57.75 44.45 59.\n",
      "  53.1  45.  ]\n",
      " [54.7  48.95 54.35 40.5  40.15 55.6  40.15 63.95 46.2  44.35 39.7  47.55\n",
      "  42.35 49.95 48.4  53.9  45.05 50.2  45.85 51.85 48.9  53.1  58.   50.45\n",
      "  56.8  64.85 50.85 39.75 48.05 52.95 53.7  53.85 50.9  58.4  49.   51.2\n",
      "  38.   47.15 44.05 52.8  34.65 55.8  44.7  42.8  47.55 42.8  52.   55.2\n",
      "  60.3  43.15]]\n"
     ]
    }
   ],
   "source": [
    "import numpy as np\n",
    "\n",
    "# Создаем массив A\n",
    "A = np.random.randint(0, 100, size=(200, 50))\n",
    "\n",
    "# Разделяем массив A на 10 частей\n",
    "split_parts = np.split(A, 10, axis=0)\n",
    "\n",
    "# Вычисляем среднее значение для каждой части\n",
    "mean_parts = [np.mean(part, axis=0) for part in split_parts]\n",
    "\n",
    "# Соединяем средние части обратно в один массив\n",
    "result_array = np.vstack(mean_parts)\n",
    "\n",
    "# Выводим полученный массив\n",
    "print(\"Массив A:\")\n",
    "print(A)\n",
    "print(\"\\nНовый массив средних значений:\")\n",
    "print(result_array)\n"
   ]
  },
  {
   "cell_type": "markdown",
   "metadata": {
    "pycharm": {
     "name": "#%% md\n"
    }
   },
   "source": [
    "# Задание 2.10 (4 балла)\n",
    "\n",
    "\"Разверните\" массив `A` в одномерный массив. Оставьте в нём только уникальные элементы в том же порядке, в котором они встречаются в массиве. Используйте [np.unique()](https://numpy.org/doc/stable/reference/generated/numpy.unique.html)"
   ]
  },
  {
   "cell_type": "code",
   "execution_count": 21,
   "metadata": {
    "pycharm": {
     "name": "#%%\n"
    }
   },
   "outputs": [
    {
     "name": "stdout",
     "output_type": "stream",
     "text": [
      "Уникальные элементы в том же порядке, в котором они встречаются в массиве A:\n",
      "[7 0 6 4 2 5 8 9 3 1]\n"
     ]
    }
   ],
   "source": [
    "import numpy as np\n",
    "\n",
    "# Создаем массив A\n",
    "A = np.random.randint(0, 10, size=(200, 50))\n",
    "\n",
    "# Разворачиваем массив A в одномерный массив\n",
    "flattened_A = A.flatten()\n",
    "\n",
    "# Используем np.unique с параметром return_index=True\n",
    "unique_elements, unique_indices = np.unique(flattened_A, return_index=True)\n",
    "\n",
    "# Получаем уникальные элементы в том же порядке, в котором они встречаются в массиве\n",
    "unique_elements_in_original_order = flattened_A[np.sort(unique_indices)]\n",
    "\n",
    "# Выводим полученный одномерный массив с уникальными элементами\n",
    "print(\"Уникальные элементы в том же порядке, в котором они встречаются в массиве A:\")\n",
    "print(unique_elements_in_original_order)\n"
   ]
  },
  {
   "cell_type": "markdown",
   "metadata": {
    "pycharm": {
     "name": "#%% md\n"
    }
   },
   "source": [
    "# Задание 2.11 (3 балла)\n",
    "\n",
    "Создайте одномерный массив размерности $200$, в котором каждый элемент - евклидово расстояние между соответствующей строкой `A` и \"средней\" строкой `A`"
   ]
  },
  {
   "cell_type": "code",
   "execution_count": 22,
   "metadata": {
    "pycharm": {
     "name": "#%%\n"
    }
   },
   "outputs": [
    {
     "name": "stdout",
     "output_type": "stream",
     "text": [
      "Одномерный массив с евклидовыми расстояниями:\n",
      "[201.13437169 182.49297377 203.6358158  197.11746618 179.72435972\n",
      " 202.26642202 214.47462665 188.71774022 216.17686156 203.82027739\n",
      " 196.94561553 219.8444802  189.65952514 187.4646246  202.62207549\n",
      " 208.71256664 214.32369322 227.16008777 198.71974103 198.81638633\n",
      " 194.98734696 217.84410819 206.10450135 207.3174992  226.17868042\n",
      " 228.32191195 201.40065907 176.97080402 221.06534209 198.40288676\n",
      " 188.50388716 192.02561151 195.22378307 197.05274795 198.67062056\n",
      " 201.93762768 223.38349419 199.30159426 212.08869719 198.64368974\n",
      " 214.91874156 193.53437802 179.87939147 181.86342534 191.85227514\n",
      " 210.49172306 201.93948469 202.17703993 204.38533576 214.39688775\n",
      " 216.71860897 195.6466342  189.54715897 192.10358007 217.3613247\n",
      " 205.96602991 204.74988516 194.66945183 200.52485002 197.74133477\n",
      " 202.25398754 184.65033299 198.71881007 215.98130816 187.26995348\n",
      " 194.24236272 223.82375985 210.40295976 185.45189531 205.60443934\n",
      " 215.57974273 215.42245815 188.08127359 201.26339825 211.62675983\n",
      " 192.44951409 205.60706572 229.14514063 207.3557703  247.07164037\n",
      " 230.50007695 169.67399764 190.81335245 208.40629903 182.98282836\n",
      " 217.23424103 206.00430936 187.33879864 211.88996077 202.6519565\n",
      " 204.0261392  206.24826175 194.81464389 209.06179822 196.02289528\n",
      " 168.43798703 201.95206232 196.00376393 229.24008261 191.00962142\n",
      " 202.22384992 214.56312702 199.78675    204.32962457 227.0300321\n",
      " 224.34207246 217.21812879 196.20758261 190.19126025 219.45930255\n",
      " 212.89728856 219.96121357 225.59442696 178.24422985 203.55519024\n",
      " 199.45406858 204.08014473 204.71982189 211.52885258 198.26115473\n",
      " 208.43216037 210.65878922 207.00902269 208.7894046  213.29283972\n",
      " 198.10872135 193.11650752 182.75011758 214.21096021 213.06821789\n",
      " 173.7492028  191.26883038 167.09980693 197.05401664 210.77318491\n",
      " 190.39917404 199.37002151 221.10439949 205.00079384 196.06283553\n",
      " 183.37430429 206.73878561 216.78638213 208.34359955 209.06404635\n",
      " 231.01475164 208.98407948 189.54895271 202.59075861 219.30240645\n",
      " 219.84686824 228.5604635  220.92280433 214.15773503 196.17465554\n",
      " 206.2832409  220.72842018 206.6960461  206.70313368 198.42932111\n",
      " 199.10907934 189.10337246 213.79468065 194.41428825 210.00370348\n",
      " 218.13561258 217.84624274 216.97567946 202.7177483  204.19149217\n",
      " 198.33490735 192.08627092 209.01625648 211.071399   182.09202474\n",
      " 214.42662026 204.61663049 185.05103479 214.95891578 200.06712742\n",
      " 202.08784099 192.19179346 204.85879399 209.50409417 196.80885517\n",
      " 207.1740946  191.91595941 207.89368792 199.00481269 204.79034517\n",
      " 205.01452503 201.36515457 203.25172933 203.20850247 201.12368203\n",
      " 210.71892529 169.00785625 190.84259345 192.0299338  190.29725556]\n"
     ]
    }
   ],
   "source": [
    "import numpy as np\n",
    "\n",
    "# Создаем массив A\n",
    "A = np.random.randint(0, 100, size=(200, 50))\n",
    "\n",
    "# Вычисляем среднюю строку A\n",
    "mean_row = np.mean(A, axis=0)\n",
    "\n",
    "# Инициализируем массив для хранения евклидовых расстояний\n",
    "euclidean_distances = np.zeros(A.shape[0])\n",
    "\n",
    "# Вычисляем евклидово расстояние для каждой строки и средней строки\n",
    "for i in range(A.shape[0]):\n",
    "    euclidean_distances[i] = np.linalg.norm(A[i] - mean_row)\n",
    "\n",
    "# Выводим полученный одномерный массив\n",
    "print(\"Одномерный массив с евклидовыми расстояниями:\")\n",
    "print(euclidean_distances)\n"
   ]
  },
  {
   "cell_type": "markdown",
   "metadata": {
    "pycharm": {
     "name": "#%% md\n"
    }
   },
   "source": [
    "# Задание 2.12 (2 балла)\n",
    "\n",
    "Создайте новый массив, который состоит из элементов `A`, измененных по следующим правилам:\n",
    "- если элемент меньше $50$, то он умножается на $2$\n",
    "- в противном случае он умножается на $3$\n",
    "\n",
    "Используйте [np.where()](https://numpy.org/doc/stable/reference/generated/numpy.where.html)"
   ]
  },
  {
   "cell_type": "code",
   "execution_count": 23,
   "metadata": {
    "pycharm": {
     "name": "#%%\n"
    }
   },
   "outputs": [
    {
     "name": "stdout",
     "output_type": "stream",
     "text": [
      "Массив A:\n",
      "[[12 71 79 ... 12 28 73]\n",
      " [89 52 70 ... 28 45 93]\n",
      " [30 52 74 ... 88 20  3]\n",
      " ...\n",
      " [41 59 19 ...  2 36 40]\n",
      " [26 74 80 ...  2 76  7]\n",
      " [11 81 73 ... 81 45 77]]\n",
      "\n",
      "Новый массив с примененными правилами:\n",
      "[[ 24 213 237 ...  24  56 219]\n",
      " [267 156 210 ...  56  90 279]\n",
      " [ 60 156 222 ... 264  40   6]\n",
      " ...\n",
      " [ 82 177  38 ...   4  72  80]\n",
      " [ 52 222 240 ...   4 228  14]\n",
      " [ 22 243 219 ... 243  90 231]]\n"
     ]
    }
   ],
   "source": [
    "import numpy as np\n",
    "\n",
    "# Создаем массив A\n",
    "A = np.random.randint(0, 100, size=(200, 50))\n",
    "\n",
    "# Создаем новый массив, применяя указанные правила\n",
    "new_array = np.where(A < 50, A * 2, A * 3)\n",
    "\n",
    "# Выводим полученный массив\n",
    "print(\"Массив A:\")\n",
    "print(A)\n",
    "print(\"\\nНовый массив с примененными правилами:\")\n",
    "print(new_array)\n"
   ]
  },
  {
   "cell_type": "markdown",
   "metadata": {
    "pycharm": {
     "name": "#%% md\n"
    }
   },
   "source": [
    "# Задание 2.13 (7 баллов)\n",
    "\n",
    "Разверните массив `A` в одномерный массив. Создайте три новых массива, подсчитав скользящие средние по окнам $3$, $5$, $10$. Найдите сумму этих массивов, выровнив из размерности нулями справа\n",
    "\n",
    "*Tip: реализуйте функцию, которая считает скользящее среднее. Используйте [np.cumsum()](https://numpy.org/doc/stable/reference/generated/numpy.cumsum.html) или [np.convolve()](https://numpy.org/doc/stable/reference/generated/numpy.convolve.html)*"
   ]
  },
  {
   "cell_type": "code",
   "execution_count": 25,
   "metadata": {
    "pycharm": {
     "name": "#%%\n"
    }
   },
   "outputs": [
    {
     "name": "stdout",
     "output_type": "stream",
     "text": [
      "Скользящие средние:\n",
      "Скользящее среднее с окном 3: [45.         59.33333333 54.33333333 ... 52.         68.33333333\n",
      " 75.        ]\n",
      "Скользящее среднее с окном 5: [57.6 59.2 48.4 ... 54.4 63.6 63.6]\n",
      "Скользящее среднее с окном 10: [42.1 41.1 37.4 ... 50.9 56.2 62.7]\n",
      "\n",
      "Сумма скользящих средних:\n",
      "[144.7        159.63333333 140.13333333 ... 115.6         68.33333333\n",
      "  75.        ]\n"
     ]
    }
   ],
   "source": [
    "import numpy as np\n",
    "\n",
    "# Создаем массив A\n",
    "A = np.random.randint(0, 100, size=(200, 50))\n",
    "\n",
    "# Развернем массив A в одномерный массив\n",
    "flattened_A = A.flatten()\n",
    "\n",
    "# Функция для расчета скользящего среднего\n",
    "def moving_average(data, window_size):\n",
    "    window = np.ones(window_size) / window_size\n",
    "    return np.convolve(data, window, mode='valid')\n",
    "\n",
    "# Вычисляем скользящие средние с окнами 3, 5 и 10\n",
    "window_sizes = [3, 5, 10]\n",
    "moving_averages = [moving_average(flattened_A, window_size) for window_size in window_sizes]\n",
    "\n",
    "# Находим максимальную длину скользящих средних\n",
    "max_length = max(len(average) for average in moving_averages)\n",
    "\n",
    "# Выравниваем их по максимальной длине, добавляя нули справа\n",
    "aligned_moving_averages = [np.pad(average, (0, max_length - len(average)), 'constant', constant_values=(0, 0)) for average in moving_averages]\n",
    "\n",
    "# Находим сумму выровненных скользящих средних\n",
    "sum_of_moving_averages = np.sum(aligned_moving_averages, axis=0)\n",
    "\n",
    "# Выводим результат\n",
    "print(\"Скользящие средние:\")\n",
    "for i, window_size in enumerate(window_sizes):\n",
    "    print(f\"Скользящее среднее с окном {window_size}:\", moving_averages[i])\n",
    "print(\"\\nСумма скользящих средних:\")\n",
    "print(sum_of_moving_averages)\n",
    "\n"
   ]
  },
  {
   "cell_type": "markdown",
   "metadata": {
    "pycharm": {
     "name": "#%% md\n"
    }
   },
   "source": [
    "# Задание 2.14 (8 баллов)\n",
    "\n",
    "Постройте график функции $$f(x) = (5  \\sin(2x) - \\cos^2(x) - 1 + |x^3| - x^2) / (x^2 + 1)$$  \n",
    "\n",
    "и производной от этой функции.  Найдите минимум с помощью `scipy` и обозначьте его на графике. На этой же оси постройте графики скользящего среднего этой функции с окном $1$, $2$, $5$."
   ]
  },
  {
   "cell_type": "code",
   "execution_count": 26,
   "metadata": {
    "pycharm": {
     "name": "#%%\n"
    }
   },
   "outputs": [
    {
     "data": {
      "image/png": "[encoded data removed]",
      "text/plain": [
       "<Figure size 720x432 with 1 Axes>"
      ]
     },
     "metadata": {
      "needs_background": "light"
     },
     "output_type": "display_data"
    }
   ],
   "source": [
    "import numpy as np\n",
    "import matplotlib.pyplot as plt\n",
    "from scipy.optimize import minimize\n",
    "\n",
    "# Определяем функцию f(x)\n",
    "def f(x):\n",
    "    return (5 * np.sin(2 * x) - np.cos(2 * x) - 1 + np.abs(x**3) - x**2) / (x**2 + 1)\n",
    "\n",
    "# Определяем производную функции f(x)\n",
    "def f_prime(x):\n",
    "    return ((-5 * np.cos(2 * x) - 2 * np.cos(2 * x) + 3 * x**2 - x**3 + 1) * (x**2 + 1) + \n",
    "            (5 * np.sin(2 * x) - x * np.abs(x**3) + x * (x**2 - 1))) / (x**2 + 1)**2\n",
    "\n",
    "# Создаем массив x для значений x\n",
    "x = np.linspace(-10, 10, 1000)\n",
    "\n",
    "# Вычисляем значения функции f(x) и ее производной\n",
    "y = f(x)\n",
    "y_prime = f_prime(x)\n",
    "\n",
    "# Находим минимум функции f(x) с помощью scipy\n",
    "min_result = minimize(f, x0=0)\n",
    "\n",
    "# Создаем скользящие средние с окнами 1, 2, 5\n",
    "moving_average_1 = np.convolve(y, np.ones(1)/1, mode='same')\n",
    "moving_average_2 = np.convolve(y, np.ones(2)/2, mode='same')\n",
    "moving_average_5 = np.convolve(y, np.ones(5)/5, mode='same')\n",
    "\n",
    "# Строим графики\n",
    "plt.figure(figsize=(10, 6))\n",
    "plt.plot(x, y, label='f(x)')\n",
    "plt.plot(x, y_prime, label=\"f'(x)\")\n",
    "plt.plot(x, moving_average_1, label='Moving Average (Window 1)')\n",
    "plt.plot(x, moving_average_2, label='Moving Average (Window 2)')\n",
    "plt.plot(x, moving_average_5, label='Moving Average (Window 5)')\n",
    "plt.scatter(min_result.x, min_result.fun, color='red', marker='o', label='Minimum')\n",
    "plt.xlabel('x')\n",
    "plt.ylabel('y')\n",
    "plt.legend()\n",
    "plt.title('Графики функции и производной, а также скользящего среднего')\n",
    "plt.grid(True)\n",
    "plt.show()\n"
   ]
  },
  {
   "cell_type": "markdown",
   "metadata": {
    "pycharm": {
     "name": "#%% md\n"
    }
   },
   "source": [
    "# Задание 2.15 (10 баллов)\n",
    "\n",
    "Есть следующий алгоритм семплинирования, на вход функции подается вектор из целых положительных чисел и число семплов."
   ]
  },
  {
   "cell_type": "code",
   "execution_count": 2,
   "metadata": {
    "pycharm": {
     "name": "#%%\n"
    }
   },
   "outputs": [
    {
     "data": {
      "text/plain": [
       "[0, 4, 4, 0, 0]"
      ]
     },
     "execution_count": 2,
     "metadata": {},
     "output_type": "execute_result"
    }
   ],
   "source": [
    "from typing import List \n",
    "\n",
    "def sample(x: List[int], c: int) -> List[int]:\n",
    "    assert len(x) > 0\n",
    "    \n",
    "    s = np.sum(x)\n",
    "    res = []\n",
    "    for _ in range(c):\n",
    "        val = s * np.random.random()\n",
    "        cur, idx = 0, 0        \n",
    "        while cur + x[idx] <= val:\n",
    "            cur += x[idx]\n",
    "            idx += 1\n",
    "            \n",
    "        res.append(idx)\n",
    "    return res\n",
    "\n",
    "            \n",
    "sample([50, 3, 1, 7, 20], 5)   "
   ]
  },
  {
   "cell_type": "markdown",
   "metadata": {
    "pycharm": {
     "name": "#%% md\n"
    }
   },
   "source": [
    "Реализуйте данный алгоритм более оптимальным способом на массивах `numpy`, без использования циклов. Проверьте корректность и идентичность алгоритмов семплирования с помощью статистических тестов."
   ]
  },
  {
   "cell_type": "code",
   "execution_count": 42,
   "metadata": {
    "pycharm": {
     "name": "#%%\n"
    }
   },
   "outputs": [
    {
     "name": "stdout",
     "output_type": "stream",
     "text": [
      "Статистические тесты успешно пройдены. p-value = 0.43335733479962624\n"
     ]
    }
   ],
   "source": [
    "import numpy as np\n",
    "from typing import List\n",
    "\n",
    "def sample_optimized(x: List[int], c: int) -> List[int]:\n",
    "    assert len(x) > 0\n",
    "\n",
    "    cum_sum_x = np.cumsum(x)\n",
    "    rand_vals = np.random.random(c) * cum_sum_x[-1]\n",
    "\n",
    "    # Find the first index where rand_vals is less than the cumulative sum\n",
    "    res = np.argmax(rand_vals[:, np.newaxis] < cum_sum_x, axis=1)\n",
    "\n",
    "    return res.tolist()\n",
    "\n",
    "# Проверим корректность оптимизированного алгоритма\n",
    "\n",
    "x = [50, 3, 1, 7, 20]\n",
    "c = 10000\n",
    "\n",
    "# Генерируем семплы с помощью оригинального алгоритма\n",
    "original_samples = sample(x, c)\n",
    "\n",
    "# Генерируем семплы с помощью оптимизированного алгоритма\n",
    "optimized_samples = sample_optimized(x, c)\n",
    "\n",
    "# Создаем гистограммы для обоих наборов семплов\n",
    "hist_original, _ = np.histogram(original_samples, bins=len(x))\n",
    "hist_optimized, _ = np.histogram(optimized_samples, bins=len(x))\n",
    "\n",
    "# Сравниваем гистограммы семплов\n",
    "chi2_stat, p_value = chisquare(f_obs=hist_optimized, f_exp=hist_original)\n",
    "\n",
    "if p_value < 0.05:\n",
    "    print(f\"Статистические тесты не прошли. p-value = {p_value}\")\n",
    "else:\n",
    "    print(f\"Статистические тесты успешно пройдены. p-value = {p_value}\")\n"
   ]
  },
  {
   "cell_type": "markdown",
   "metadata": {
    "pycharm": {
     "name": "#%% md\n"
    }
   },
   "source": [
    "# Задание 2.16 (5 баллов)\n",
    "\n",
    "Есть следующий алгоритм \"случайного блуждания\""
   ]
  },
  {
   "cell_type": "code",
   "execution_count": 3,
   "metadata": {
    "pycharm": {
     "name": "#%%\n"
    }
   },
   "outputs": [
    {
     "data": {
      "text/plain": [
       "2003"
      ]
     },
     "execution_count": 3,
     "metadata": {},
     "output_type": "execute_result"
    }
   ],
   "source": [
    "import random \n",
    "\n",
    "def walk(n: int):\n",
    "    cur_position = 0\n",
    "    for i in range(n):\n",
    "        cur_position += random.choice([-3, -1, 0, 2, 3])\n",
    "\n",
    "    return cur_position\n",
    "\n",
    "walk(10_000)"
   ]
  },
  {
   "cell_type": "markdown",
   "metadata": {
    "pycharm": {
     "name": "#%% md\n"
    }
   },
   "source": [
    "Реализуйте более эффективную версию с помощью `numpy`, сравните производительность (используя, например, magic `timeit`). Воспользовавшись [kdeplot()](https://seaborn.pydata.org/generated/seaborn.kdeplot.html) или аналогами, постройте график распределения значений `walk(10_000)` на каком-то разумном числе запусков. "
   ]
  },
  {
   "cell_type": "code",
   "execution_count": 46,
   "metadata": {
    "pycharm": {
     "name": "#%%\n"
    }
   },
   "outputs": [
    {
     "name": "stdout",
     "output_type": "stream",
     "text": [
      "Время выполнения оригинального алгоритма: 5.2424 секунд\n",
      "Время выполнения оптимизированного алгоритма: 0.1873 секунд\n"
     ]
    },
    {
     "data": {
      "image/png": "[encoded data removed]",
      "text/plain": [
       "<Figure size 432x288 with 1 Axes>"
      ]
     },
     "metadata": {
      "needs_background": "light"
     },
     "output_type": "display_data"
    }
   ],
   "source": [
    "import numpy as np\n",
    "import random\n",
    "import timeit\n",
    "import seaborn as sns\n",
    "import matplotlib.pyplot as plt\n",
    "\n",
    "def walk(n: int):\n",
    "    cur_position = 0\n",
    "    for i in range(n):\n",
    "        cur_position += random.choice([-3, -1, 0, 2, 3])\n",
    "    return cur_position\n",
    "\n",
    "def walk_optimized(n: int):\n",
    "    steps = np.random.choice([-3, -1, 0, 2, 3], n)\n",
    "    positions = np.cumsum(steps)\n",
    "    return positions[-1]\n",
    "\n",
    "# Сравним производительность обоих версий с помощью timeit\n",
    "n = 10_000\n",
    "num_samples = 1000\n",
    "\n",
    "def time_original_walk():\n",
    "    return [walk(n) for _ in range(num_samples)]\n",
    "\n",
    "def time_optimized_walk():\n",
    "    return [walk_optimized(n) for _ in range(num_samples)]\n",
    "\n",
    "original_time = timeit.timeit(time_original_walk, number=1)\n",
    "optimized_time = timeit.timeit(time_optimized_walk, number=1)\n",
    "\n",
    "print(f\"Время выполнения оригинального алгоритма: {original_time:.4f} секунд\")\n",
    "print(f\"Время выполнения оптимизированного алгоритма: {optimized_time:.4f} секунд\")\n",
    "\n",
    "# Генерируем выборку и строим график распределения\n",
    "samples = [walk_optimized(n) for _ in range(num_samples)]\n",
    "\n",
    "sns.kdeplot(samples, shade=True)\n",
    "plt.xlabel(\"Значения walk(10,000)\")\n",
    "plt.ylabel(\"Плотность вероятности\")\n",
    "plt.title(\"Распределение значений walk(10,000)\")\n",
    "\n",
    "plt.show()\n",
    "\n"
   ]
  },
  {
   "cell_type": "markdown",
   "metadata": {
    "pycharm": {
     "name": "#%% md\n"
    }
   },
   "source": [
    "# Задание 2.17 (5 баллов)\n",
    "\n",
    "Имеется функция, которая проделывает достаточно странные манипуляции с массивом `numpy`"
   ]
  },
  {
   "cell_type": "code",
   "execution_count": 4,
   "metadata": {
    "pycharm": {
     "name": "#%%\n"
    }
   },
   "outputs": [
    {
     "data": {
      "text/plain": [
       "-0.13580565475012618"
      ]
     },
     "execution_count": 4,
     "metadata": {},
     "output_type": "execute_result"
    }
   ],
   "source": [
    "import numpy.typing as npt\n",
    "\n",
    "def strange_conv(a: npt.NDArray[np.float64]) -> np.float64:\n",
    "    x = a.shape[0]\n",
    "    y = a.shape[1]\n",
    "\n",
    "    t = 1.\n",
    "    for y in range(y - 5):\n",
    "        for x in range(x - 3):\n",
    "            c = 1.5 * a[y+1, x+2] - a[y+5, x+3] * a[y, x] + 0.2 * a[y+4, x]\n",
    "            t = 0.2 * t + 0.8 * c\n",
    "\n",
    "    return t\n",
    "\n",
    "\n",
    "a = np.random.random((10000, 10000))\n",
    "strange_conv(a)\n"
   ]
  },
  {
   "cell_type": "markdown",
   "metadata": {
    "pycharm": {
     "name": "#%% md\n"
    }
   },
   "source": [
    "Оптимизируйте данную функцию с помощью (2 на выбор):\n",
    "- [Numba](https://numba.pydata.org)\n",
    "- `Cython` (+5 баллов)\n",
    "- [Taichi](https://github.com/taichi-dev/taichi) (+5 баллов)\n",
    "- `Pythran `[[1]](https://pythran.readthedocs.io/en/latest/), [[2]](https://serge-sans-paille.github.io/pythran-stories/pythran-tutorial.html) (+2 балла)\n",
    "\n",
    "Сравните производительность."
   ]
  },
  {
   "cell_type": "code",
   "execution_count": 14,
   "metadata": {
    "pycharm": {
     "name": "#%%\n"
    }
   },
   "outputs": [
    {
     "name": "stdout",
     "output_type": "stream",
     "text": [
      "Requirement already satisfied: cython in c:\\users\\pavilion\\anaconda3\\lib\\site-packages (0.29.21)\n"
     ]
    }
   ],
   "source": [
    "!pip install cython\n"
   ]
  },
  {
   "cell_type": "code",
   "execution_count": 19,
   "metadata": {
    "pycharm": {
     "name": "#%%\n"
    }
   },
   "outputs": [
    {
     "name": "stdout",
     "output_type": "stream",
     "text": [
      "Время выполнения функции до оптимизации: 23.13329029083252 секунд\n",
      "Время выполнения оптимизированной функции с Numba: 0.18806004524230957 секунд\n"
     ]
    }
   ],
   "source": [
    "import numpy as np\n",
    "from numba import jit\n",
    "import time\n",
    "\n",
    "# Функция до оптимизации\n",
    "def strange_conv_original(a):\n",
    "    x = a.shape[0]\n",
    "    y = a.shape[1]\n",
    "\n",
    "    t = 1.\n",
    "    for y in range(y - 5):\n",
    "        for x in range(x - 3):\n",
    "            c = 1.5 * a[y+1, x+2] - a[y+5, x+3] * a[y, x] + 0.2 * a[y+4, x]\n",
    "            t = 0.2 * t + 0.8 * c\n",
    "\n",
    "    return t\n",
    "\n",
    "a = np.random.random((10000, 10000))\n",
    "\n",
    "# Замер времени выполнения функции до оптимизации\n",
    "start_time = time.time()\n",
    "result_original = strange_conv_original(a)\n",
    "end_time = time.time()\n",
    "original_execution_time = end_time - start_time\n",
    "print(\"Время выполнения функции до оптимизации:\", original_execution_time, \"секунд\")\n",
    "\n",
    "# Оптимизированная функция с Numba\n",
    "@jit\n",
    "def strange_conv_optimized(a):\n",
    "    x = a.shape[0]\n",
    "    y = a.shape[1]\n",
    "\n",
    "    t = 1.\n",
    "    for y in range(y - 5):\n",
    "        for x in range(x - 3):\n",
    "            c = 1.5 * a[y+1, x+2] - a[y+5, x+3] * a[y, x] + 0.2 * a[y+4, x]\n",
    "            t = 0.2 * t + 0.8 * c\n",
    "\n",
    "    return t\n",
    "\n",
    "# Замер времени выполнения оптимизированной функции с Numba\n",
    "start_time = time.time()\n",
    "result_optimized = strange_conv_optimized(a)\n",
    "end_time = time.time()\n",
    "optimized_execution_time = end_time - start_time\n",
    "print(\"Время выполнения оптимизированной функции с Numba:\", optimized_execution_time, \"секунд\")\n",
    "\n",
    "# Проверка на корректность результата\n",
    "assert result_original == result_optimized\n",
    "\n"
   ]
  },
  {
   "cell_type": "code",
   "execution_count": null,
   "metadata": {
    "pycharm": {
     "name": "#%%\n"
    }
   },
   "outputs": [],
   "source": []
  }
 ],
 "metadata": {
  "kernelspec": {
   "display_name": "Python 3",
   "language": "python",
   "name": "python3"
  },
  "language_info": {
   "codemirror_mode": {
    "name": "ipython",
    "version": 3
   },
   "file_extension": ".py",
   "mimetype": "text/x-python",
   "name": "python",
   "nbconvert_exporter": "python",
   "pygments_lexer": "ipython3",
   "version": "3.8.3"
  },
  "vscode": {
   "interpreter": {
    "hash": "916dbcbb3f70747c44a77c7bcd40155683ae19c65e1c03b4aa3499c5328201f1"
   }
  }
 },
 "nbformat": 4,
 "nbformat_minor": 2
}